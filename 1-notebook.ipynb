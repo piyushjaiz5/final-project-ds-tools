{
 "cells": [
  {
   "cell_type": "markdown",
   "id": "ba580565-77ba-4b56-9a95-46d739c24e40",
   "metadata": {},
   "source": [
    "# Final Project - Data Science Tools and Ecosystem\n"
   ]
  },
  {
   "cell_type": "markdown",
   "id": "7c3e9a23-100f-4f1d-a88a-6a68443eb7d2",
   "metadata": {},
   "source": [
    "## Introduction\n",
    "\n",
    "In this notebook, we will explore various tools, languages, and libraries used in the field of data science. We'll also demonstrate simple arithmetic operations using code.\n"
   ]
  },
  {
   "cell_type": "markdown",
   "id": "ce75335b-b6ee-4ece-9247-950e66fbff0e",
   "metadata": {},
   "source": [
    "## Data Science Languages\n",
    "\n",
    "Some of the popular languages that Data Scientists use are:\n",
    "\n",
    "1. Python  \n",
    "2. R  \n",
    "3. SQL  \n",
    "4. Julia  \n",
    "5. Scala  \n",
    "\n"
   ]
  },
  {
   "cell_type": "markdown",
   "id": "a623da19-d1b0-4cb6-9a85-9dadcd4dc420",
   "metadata": {},
   "source": [
    "## Data Science Libraries\n",
    "\n",
    "Popular libraries used by Data Scientists include:\n",
    "\n",
    "1. Pandas  \n",
    "2. NumPy  \n",
    "3. Matplotlib  \n",
    "4. Scikit-learn  \n",
    "5. TensorFlow  \n"
   ]
  },
  {
   "cell_type": "markdown",
   "id": "bed9025e-e667-487b-be44-4e7ce183e968",
   "metadata": {},
   "source": [
    "## Data Science Tools\n",
    "\n",
    "| Tool        | Category         |\n",
    "|-------------|------------------|\n",
    "| Jupyter     | IDE              |\n",
    "| RStudio     | IDE              |\n",
    "| Apache Spark| Big Data Engine  |\n",
    "| Tableau     | Data Visualization |\n",
    "| Power BI    | Data Visualization |\n"
   ]
  },
  {
   "cell_type": "markdown",
   "id": "7984e0f7-3cb3-46dd-9698-9e3656d230e9",
   "metadata": {},
   "source": [
    "## Arithmetic Expression Examples\n",
    "\n",
    "Below are some examples of arithmetic expressions used in Python.\n"
   ]
  },
  {
   "cell_type": "code",
   "execution_count": 8,
   "id": "14b3242b-17d0-46c8-95e8-f03666556cbe",
   "metadata": {},
   "outputs": [
    {
     "name": "stdout",
     "output_type": "stream",
     "text": [
      "The result of (3 * 4) + 5 is: 17\n"
     ]
    }
   ],
   "source": [
    "# This expression multiplies 3 and 4 and adds 5\n",
    "result = (3 * 4) + 5\n",
    "print(\"The result of (3 * 4) + 5 is:\", result)\n"
   ]
  },
  {
   "cell_type": "code",
   "execution_count": 10,
   "id": "9be2fcde-9283-4748-bd07-bda2704650be",
   "metadata": {},
   "outputs": [
    {
     "name": "stdout",
     "output_type": "stream",
     "text": [
      "200 minutes is equal to 3.3333333333333335 hours\n"
     ]
    }
   ],
   "source": [
    "# Convert 200 minutes to hours\n",
    "minutes = 200\n",
    "hours = minutes / 60\n",
    "print(\"200 minutes is equal to\", hours, \"hours\")\n"
   ]
  },
  {
   "cell_type": "markdown",
   "id": "59dbbb09-3935-4ed1-a4e5-7686c63f0859",
   "metadata": {},
   "source": [
    "## Objectives\n",
    "\n",
    "In this notebook, we will:\n",
    "\n",
    "- List popular languages in Data Science  \n",
    "- List commonly used libraries in Data Science  \n",
    "- Introduce tools used in the Data Science ecosystem  \n",
    "- Demonstrate basic arithmetic operations in Python  \n",
    "- Convert minutes into hours using Python  \n"
   ]
  },
  {
   "cell_type": "markdown",
   "id": "7dad296a-cfa3-433b-8302-e390198cc209",
   "metadata": {},
   "source": [
    "## Author\n",
    "\n",
    "Piyush Jaiswal"
   ]
  }
 ],
 "metadata": {
  "kernelspec": {
   "display_name": "Python 3 (ipykernel)",
   "language": "python",
   "name": "python3"
  },
  "language_info": {
   "codemirror_mode": {
    "name": "ipython",
    "version": 3
   },
   "file_extension": ".py",
   "mimetype": "text/x-python",
   "name": "python",
   "nbconvert_exporter": "python",
   "pygments_lexer": "ipython3",
   "version": "3.12.4"
  }
 },
 "nbformat": 4,
 "nbformat_minor": 5
}
